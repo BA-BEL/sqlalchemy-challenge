{
 "cells": [
  {
   "cell_type": "code",
   "execution_count": 152,
   "metadata": {},
   "outputs": [],
   "source": [
    "#   Dependencies\n",
    "from matplotlib import style\n",
    "style.use('ggplot')\n",
    "import matplotlib.pyplot as plt"
   ]
  },
  {
   "cell_type": "code",
   "execution_count": 153,
   "metadata": {},
   "outputs": [],
   "source": [
    "import numpy as np\n",
    "import pandas as pd\n",
    "import datetime as dt"
   ]
  },
  {
   "attachments": {},
   "cell_type": "markdown",
   "metadata": {},
   "source": [
    "# Reflect Tables into SQLAlchemy ORM"
   ]
  },
  {
   "cell_type": "code",
   "execution_count": 154,
   "metadata": {},
   "outputs": [],
   "source": [
    "#   Python SQL toolkit and ORM\n",
    "import sqlalchemy\n",
    "from sqlalchemy.ext.automap import automap_base\n",
    "from sqlalchemy.orm import Session\n",
    "from sqlalchemy import create_engine, func, inspect"
   ]
  },
  {
   "cell_type": "code",
   "execution_count": 155,
   "metadata": {},
   "outputs": [],
   "source": [
    "#   Create engine to hawaii.sqlite\n",
    "engine = create_engine(\"sqlite:///Resources/hawaii.sqlite\")\n"
   ]
  },
  {
   "cell_type": "code",
   "execution_count": 156,
   "metadata": {},
   "outputs": [],
   "source": [
    "#   reflect an existing database into a new model\n",
    "Base = automap_base()\n",
    "\n",
    "#   Reflect the tables\n",
    "Base.prepare(autoload_with = engine)"
   ]
  },
  {
   "cell_type": "code",
   "execution_count": 157,
   "metadata": {},
   "outputs": [
    {
     "data": {
      "text/plain": [
       "['measurement', 'station']"
      ]
     },
     "execution_count": 157,
     "metadata": {},
     "output_type": "execute_result"
    }
   ],
   "source": [
    "#   View all of the classes that automap found\n",
    "Base.classes.keys()"
   ]
  },
  {
   "cell_type": "code",
   "execution_count": 158,
   "metadata": {},
   "outputs": [],
   "source": [
    "#   Save references to each table\n",
    "Measurement = Base.classes.measurement\n",
    "Station = Base.classes.station"
   ]
  },
  {
   "cell_type": "code",
   "execution_count": 159,
   "metadata": {},
   "outputs": [],
   "source": [
    "#   Create session from Python to DB\n",
    "session = Session(bind = engine)"
   ]
  },
  {
   "cell_type": "markdown",
   "metadata": {},
   "source": [
    "# Exploratory Precipitation Analysis"
   ]
  },
  {
   "cell_type": "code",
   "execution_count": 160,
   "metadata": {},
   "outputs": [
    {
     "name": "stdout",
     "output_type": "stream",
     "text": [
      "2010-01-01\n"
     ]
    }
   ],
   "source": [
    "#   Find the most recent date of the dataset\n",
    "\n",
    "data, = session.query(Measurement.date).order_by(Measurement.date).first()\n",
    "\n",
    "# Print\n",
    "print(data)"
   ]
  },
  {
   "cell_type": "code",
   "execution_count": 161,
   "metadata": {},
   "outputs": [
    {
     "data": {
      "image/png": "[encoded data removed]",
      "text/plain": [
       "<Figure size 432x288 with 1 Axes>"
      ]
     },
     "metadata": {},
     "output_type": "display_data"
    }
   ],
   "source": [
    "#   Design a query to retrieve the last 12 months of precipitation data and plot the results/\n",
    "#   Starting from the most recent data point in the database.\n",
    "\n",
    "#   Calculate the date one year from the last date in the dataset\n",
    "data, = session.query(Measurement.date).order_by(Measurement.date.desc()).first()\n",
    "\n",
    "date = dt.datetime.strptime(data, \"%Y-%m-%d\") - dt.timedelta(365)\n",
    "\n",
    "#   Perform a query to retrieve the data and precipitation scores\n",
    "\n",
    "prcpquery = session.query(Measurement.date, Measurement.prcp)\\\n",
    "            .filter(Measurement.date >= date).all()\n",
    "\n",
    "#   Save the query results as a Pandas DataFrame and set the index to the date column\n",
    "\n",
    "df = pd.DataFrame(prcpquery, columns = [\"Date\", \"Precipitation\"])\n",
    "df = df.set_index(\"Date\")\n",
    "\n",
    "#   Sort the dataframe by date\n",
    "\n",
    "df = df.sort_index(ascending= True)\n",
    "\n",
    "#   Use Pandas Plotting with Matplotlib to plot the data\n",
    "df.reset_index(inplace = True)\n",
    "df_plot = df.plot.line(x = \"Date\", y = \"Precipitation\", c = \"dodgerblue\")\n",
    "df_plot.set_ylabel(\"mm\")\n",
    "df_plot.set_xlim(0)\n",
    "\n",
    "plt.show()\n"
   ]
  },
  {
   "cell_type": "code",
   "execution_count": 162,
   "metadata": {},
   "outputs": [
    {
     "name": "stdout",
     "output_type": "stream",
     "text": [
      "Mean: 4.4851116625310175\n",
      "Median: 0.5\n",
      "Mode: 0.0\n",
      "Min: 0.0\n",
      "Max: 170.2\n",
      "Std. Dev: 11.690531509988574\n",
      "Variance: 136.66852698603572\n"
     ]
    }
   ],
   "source": [
    "#   Use Pandas to calculate the summary statistics for the precipitation data\n",
    "\n",
    "print(f\"Mean: {df['Precipitation'].mean()}\")\n",
    "print(f\"Median: {df['Precipitation'].median()}\")\n",
    "print(f\"Mode: {df['Precipitation'].mode().iloc[0]}\")\n",
    "print(f\"Min: {df['Precipitation'].min()}\")\n",
    "print(f\"Max: {df['Precipitation'].max()}\")\n",
    "print(f\"Std. Dev: {df['Precipitation'].std()}\")\n",
    "print(f\"Variance: {df['Precipitation'].var()}\")"
   ]
  },
  {
   "attachments": {},
   "cell_type": "markdown",
   "metadata": {},
   "source": [
    "# Exploratory Station Analysis\n",
    "\n"
   ]
  },
  {
   "cell_type": "code",
   "execution_count": 163,
   "metadata": {},
   "outputs": [
    {
     "data": {
      "text/plain": [
       "9"
      ]
     },
     "execution_count": 163,
     "metadata": {},
     "output_type": "execute_result"
    }
   ],
   "source": [
    "#   Design a query to calculate the total number of stations in the dataset\n",
    "session.query(Station.station).count()\n"
   ]
  },
  {
   "cell_type": "code",
   "execution_count": 164,
   "metadata": {},
   "outputs": [
    {
     "name": "stdout",
     "output_type": "stream",
     "text": [
      "Station: WAIHEE 837.5, HI US| Count: 2772\n",
      "Station: WAIKIKI 717.2, HI US| Count: 2724\n",
      "Station: KANEOHE 838.1, HI US| Count: 2709\n",
      "Station: WAIMANALO EXPERIMENTAL FARM, HI US| Count: 2669\n",
      "Station: MANOA LYON ARBO 785.2, HI US| Count: 2612\n",
      "Station: KUALOA RANCH HEADQUARTERS 886.9, HI US| Count: 2202\n",
      "Station: HONOLULU OBSERVATORY 702.2, HI US| Count: 1979\n",
      "Station: PEARL CITY, HI US| Count: 1372\n",
      "Station: UPPER WAHIAWA 874.3, HI US| Count: 511\n"
     ]
    }
   ],
   "source": [
    "#   Design a query to find the most active stations (the stations that have the most rows)\n",
    "#   List the stations and the counts in descending order\n",
    "\n",
    "# Columns to return\n",
    "sel = [Station.name,\n",
    "        Station.station,\n",
    "        func.count(Measurement.station)]\n",
    "\n",
    "# Store query into object for iteration\n",
    "data =              session.query(*sel)                                 \\\n",
    "                    .filter(Station.station == Measurement.station)     \\\n",
    "                    .group_by(Station.station)                          \\\n",
    "                    .order_by(sel[2].desc()).all()\n",
    "\n",
    "# Print results\n",
    "for station in data:\n",
    "    print(f\"Station: {station[0]}| Count: {station[2]}\")\n"
   ]
  },
  {
   "cell_type": "code",
   "execution_count": 165,
   "metadata": {},
   "outputs": [
    {
     "name": "stdout",
     "output_type": "stream",
     "text": [
      "Min: 12.2\n",
      "Max: 29.4\n",
      "Mean: 22.03582251082252\n"
     ]
    }
   ],
   "source": [
    "#   Using the most active station id from the previous query, calculate the\n",
    "#   lowest, highest, and average temperature\n",
    "\n",
    "# Store latest station with data object from previous cell \n",
    "# (Station id was omitted in the printing, hence why the subscript is as such)\n",
    "station = data[0][1]\n",
    "\n",
    "# Columns to return\n",
    "sel = [func.min(Measurement.tobs),\n",
    "        func.max(Measurement.tobs),\n",
    "        func.avg(Measurement.tobs)]\n",
    "\n",
    "# Store query\n",
    "output = session.query(*sel).filter(Measurement.station == station).one()\n",
    "\n",
    "# Print\n",
    "print(f\"Min: {output[0]}\")\n",
    "print(f\"Max: {output[1]}\")\n",
    "print(f\"Mean: {output[2]}\")"
   ]
  },
  {
   "cell_type": "code",
   "execution_count": 197,
   "metadata": {},
   "outputs": [
    {
     "data": {
      "image/png": "[encoded data removed]",
      "text/plain": [
       "<Figure size 432x288 with 1 Axes>"
      ]
     },
     "metadata": {},
     "output_type": "display_data"
    }
   ],
   "source": [
    "#   Using the most active station id,\n",
    "#   Query the last 12 months of temperature observation data for this station and\n",
    "#   plot the results in a histogram\n",
    "\n",
    "#   Query last 12 months for the most active station\n",
    "\n",
    "# Get latest date for station\n",
    "data, = session.query(Measurement.date)\\\n",
    "        .filter(Measurement.station == station)\\\n",
    "        .order_by(Measurement.date.desc())\\\n",
    "        .first()\n",
    "\n",
    "# Get date for one year ago\n",
    "date = dt.datetime.strptime(data, \"%Y-%m-%d\") - dt.timedelta(365)\n",
    "\n",
    "\n",
    "\n",
    "sel = [Measurement.date, Measurement.tobs]\n",
    "\n",
    "# Store output for df creation\n",
    "data = session.query(*sel)                     \\\n",
    "                    .filter(Measurement.station == station)     \\\n",
    "                    .filter(Measurement.date >= date)           \\\n",
    "                    .order_by(Measurement.tobs.desc()).all()\n",
    "\n",
    "# Create df for plotting\n",
    "df = pd.DataFrame(data, columns = [\"Date\", \"Temperature\"]).set_index(\"Date\")\n",
    "\n",
    "# Plot histogram\n",
    "plt.hist(df[\"Temperature\"], bins = 12, color = \"dodgerblue\", label = \"tobs\")\n",
    "plt.xlabel(\"Temperature\", c = \"black\")\n",
    "plt.ylabel(\"Frequency\", c = \"black\")\n",
    "plt.legend(loc = 1)\n",
    "\n",
    "plt.show()\n",
    "\n"
   ]
  },
  {
   "attachments": {},
   "cell_type": "markdown",
   "metadata": {},
   "source": [
    "# Close Session"
   ]
  },
  {
   "cell_type": "code",
   "execution_count": null,
   "metadata": {},
   "outputs": [],
   "source": [
    "#   Close session\n",
    "session.close()"
   ]
  }
 ],
 "metadata": {
  "kernelspec": {
   "display_name": "Python 3 (ipykernel)",
   "language": "python",
   "name": "python3"
  },
  "language_info": {
   "codemirror_mode": {
    "name": "ipython",
    "version": 3
   },
   "file_extension": ".py",
   "mimetype": "text/x-python",
   "name": "python",
   "nbconvert_exporter": "python",
   "pygments_lexer": "ipython3",
   "version": "3.7.7"
  },
  "vscode": {
   "interpreter": {
    "hash": "d2eff5886470145a01c1a6cacbdc4ca5ce9faf89a8ffd10be794f3be292ac244"
   }
  }
 },
 "nbformat": 4,
 "nbformat_minor": 2
}
